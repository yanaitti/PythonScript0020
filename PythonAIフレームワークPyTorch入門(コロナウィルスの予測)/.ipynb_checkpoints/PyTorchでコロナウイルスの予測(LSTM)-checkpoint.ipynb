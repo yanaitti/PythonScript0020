{
 "cells": [
  {
   "cell_type": "code",
   "execution_count": 41,
   "metadata": {},
   "outputs": [],
   "source": [
    "import torch\n",
    "import torch.nn as nn\n",
    "import numpy as np\n",
    "from sklearn import datasets\n",
    "import matplotlib.pyplot as plt\n"
   ]
  },
  {
   "cell_type": "code",
   "execution_count": 42,
   "metadata": {},
   "outputs": [],
   "source": [
    "# dummyのデータセットを作る\n",
    "X_gen, y_gen = datasets.make_regression(n_samples=100, n_features=1, noise=10, random_state=2)"
   ]
  },
  {
   "cell_type": "code",
   "execution_count": 43,
   "metadata": {},
   "outputs": [],
   "source": [
    "# numpy型をTensorに変換する\n",
    "X = torch.from_numpy(X_gen.astype(np.float32)).cuda()\n",
    "y = torch.from_numpy(y_gen.astype(np.float32)).cuda()"
   ]
  },
  {
   "cell_type": "code",
   "execution_count": 44,
   "metadata": {},
   "outputs": [
    {
     "name": "stdout",
     "output_type": "stream",
     "text": [
      "<class 'numpy.ndarray'>\n",
      "<class 'torch.Tensor'>\n"
     ]
    }
   ],
   "source": [
    "# それぞれの型の確認\n",
    "print(type(X_gen))\n",
    "print(type(X))"
   ]
  },
  {
   "cell_type": "code",
   "execution_count": 45,
   "metadata": {},
   "outputs": [
    {
     "data": {
      "text/plain": [
       "tensor([[-8.7811e-01],\n",
       "        [ 1.3596e+00],\n",
       "        [ 1.6403e+00],\n",
       "        [ 5.4235e-01],\n",
       "        [ 8.2470e-01],\n",
       "        [-5.9616e-01],\n",
       "        [-5.6267e-02],\n",
       "        [-1.3233e-01],\n",
       "        [-2.4348e+00],\n",
       "        [-4.0389e-01],\n",
       "        [ 3.8187e-01],\n",
       "        [ 1.3672e+00],\n",
       "        [-7.4787e-01],\n",
       "        [-3.8152e-01],\n",
       "        [ 8.4246e-01],\n",
       "        [-7.7219e-02],\n",
       "        [ 4.3350e-01],\n",
       "        [-2.1714e-01],\n",
       "        [ 1.4677e+00],\n",
       "        [ 1.1273e-01],\n",
       "        [ 1.7312e+00],\n",
       "        [-3.3568e-01],\n",
       "        [-1.0987e+00],\n",
       "        [-8.4175e-01],\n",
       "        [ 5.6628e-01],\n",
       "        [-1.0580e+00],\n",
       "        [ 6.9512e-01],\n",
       "        [ 5.3906e-01],\n",
       "        [ 5.0186e-01],\n",
       "        [-1.4394e+00],\n",
       "        [-1.8947e-01],\n",
       "        [-7.4471e-02],\n",
       "        [-1.7934e+00],\n",
       "        [ 2.2314e+00],\n",
       "        [ 4.1539e-02],\n",
       "        [ 1.1735e+00],\n",
       "        [-1.3845e+00],\n",
       "        [ 2.1612e-01],\n",
       "        [-9.1453e-02],\n",
       "        [ 1.2784e+00],\n",
       "        [-2.1362e+00],\n",
       "        [-2.3618e-01],\n",
       "        [-1.8586e+00],\n",
       "        [ 3.2600e-01],\n",
       "        [ 9.7615e-06],\n",
       "        [-3.7567e-01],\n",
       "        [ 1.0408e+00],\n",
       "        [-3.3882e-01],\n",
       "        [-6.7768e-01],\n",
       "        [ 1.2179e+00],\n",
       "        [-1.2453e+00],\n",
       "        [-8.2914e-01],\n",
       "        [-4.1932e-01],\n",
       "        [ 3.8047e-01],\n",
       "        [-1.8681e+00],\n",
       "        [ 1.5845e+00],\n",
       "        [ 6.1134e-01],\n",
       "        [ 1.0004e+00],\n",
       "        [-9.0901e-01],\n",
       "        [-3.9570e-02],\n",
       "        [-1.9130e-02],\n",
       "        [-1.4212e+00],\n",
       "        [ 3.5089e-01],\n",
       "        [-9.8878e-01],\n",
       "        [ 4.6256e-02],\n",
       "        [-3.8109e-01],\n",
       "        [ 7.3528e-01],\n",
       "        [-6.3766e-01],\n",
       "        [-2.6594e+00],\n",
       "        [-4.1676e-01],\n",
       "        [ 2.5657e-01],\n",
       "        [ 3.7044e-01],\n",
       "        [-6.3468e-01],\n",
       "        [ 4.7971e-02],\n",
       "        [-2.3436e+00],\n",
       "        [ 5.0840e-01],\n",
       "        [-6.5325e-01],\n",
       "        [-8.4421e-01],\n",
       "        [-4.6201e-01],\n",
       "        [ 2.0421e-01],\n",
       "        [ 5.0288e-01],\n",
       "        [-2.6906e-01],\n",
       "        [-1.1179e+00],\n",
       "        [ 5.2430e-01],\n",
       "        [ 8.7710e-02],\n",
       "        [ 5.5145e-01],\n",
       "        [-2.0335e+00],\n",
       "        [-3.1351e-01],\n",
       "        [ 1.1750e+00],\n",
       "        [ 6.6489e-02],\n",
       "        [ 1.2482e+00],\n",
       "        [-1.1876e+00],\n",
       "        [ 1.4067e+00],\n",
       "        [-1.5643e-01],\n",
       "        [ 2.2922e+00],\n",
       "        [-1.7380e+00],\n",
       "        [-2.0403e+00],\n",
       "        [ 7.7101e-01],\n",
       "        [ 9.0253e-03],\n",
       "        [-1.5350e-01]], device='cuda:0')"
      ]
     },
     "execution_count": 45,
     "metadata": {},
     "output_type": "execute_result"
    }
   ],
   "source": [
    "X"
   ]
  },
  {
   "cell_type": "code",
   "execution_count": 47,
   "metadata": {},
   "outputs": [
    {
     "data": {
      "text/plain": [
       "<matplotlib.collections.PathCollection at 0x2658d479c88>"
      ]
     },
     "execution_count": 47,
     "metadata": {},
     "output_type": "execute_result"
    },
    {
     "data": {
      "image/png": "[encoded data removed]",
      "text/plain": [
       "<Figure size 432x288 with 1 Axes>"
      ]
     },
     "metadata": {},
     "output_type": "display_data"
    }
   ],
   "source": [
    "# 散布図でデータを見てみる\n",
    "plt.scatter(X.cpu(), y.cpu())"
   ]
  },
  {
   "cell_type": "code",
   "execution_count": 48,
   "metadata": {},
   "outputs": [
    {
     "data": {
      "text/plain": [
       "tensor([-4.6354e+01,  7.1543e+01,  8.7662e+01,  3.8984e+01,  5.8920e+01,\n",
       "        -5.4420e+01,  7.7974e+00, -1.5269e+01, -1.4519e+02, -1.9877e+01,\n",
       "         2.7106e+01,  8.9842e+01, -3.8844e+01, -1.2973e+01,  5.1587e+01,\n",
       "        -7.7176e-01,  4.3025e+01, -2.6197e+01,  8.3407e+01,  4.4929e+00,\n",
       "         7.6010e+01, -2.0093e+01, -5.7805e+01, -5.7877e+01,  3.1615e+01,\n",
       "        -6.4642e+01,  3.0859e+01,  3.0379e+01,  3.8811e+01, -8.6218e+01,\n",
       "        -8.4037e+00, -1.4503e+00, -7.9389e+01,  1.2560e+02, -6.6897e+00,\n",
       "         7.8098e+01, -7.9938e+01,  1.1297e+01, -3.3335e+00,  7.6539e+01,\n",
       "        -1.2655e+02, -1.1817e+01, -1.0143e+02,  1.3380e+01, -6.8527e-01,\n",
       "        -2.3991e+01,  7.4705e+01, -2.5761e+01, -3.3145e+01,  6.5615e+01,\n",
       "        -6.7610e+01, -4.0769e+01, -2.2575e+01,  2.9195e+01, -1.0963e+02,\n",
       "         1.0110e+02,  3.5369e+01,  6.1021e+01, -5.5526e+01, -1.1318e+01,\n",
       "         1.0724e+01, -9.2375e+01,  1.1932e+01, -5.4410e+01,  1.0056e+00,\n",
       "        -7.8236e+00,  6.3764e+01, -3.9597e+01, -1.6441e+02, -2.1108e+01,\n",
       "         2.6844e+01,  4.2327e+01, -4.1192e+01, -9.4022e+00, -1.4391e+02,\n",
       "         4.1706e+01, -5.4914e+01, -6.6414e+01, -2.9667e+01,  2.2181e+01,\n",
       "         2.0203e+01, -4.6620e-02, -7.5011e+01,  3.2015e+01,  1.2589e+01,\n",
       "         1.9158e+01, -1.2974e+02, -2.2578e+01,  7.3197e+01,  5.7689e+00,\n",
       "         5.6856e+01, -7.4885e+01,  9.5651e+01, -1.7786e+01,  1.4856e+02,\n",
       "        -1.1288e+02, -1.1724e+02,  3.3164e+01, -1.1898e+01, -8.1558e+00],\n",
       "       device='cuda:0')"
      ]
     },
     "execution_count": 48,
     "metadata": {},
     "output_type": "execute_result"
    }
   ],
   "source": [
    "# これに最適な線形回帰をPyTorchを使って解析する\n",
    "# yは一次元なので二次元の形に変換する\n",
    "y"
   ]
  },
  {
   "cell_type": "code",
   "execution_count": 49,
   "metadata": {},
   "outputs": [],
   "source": [
    "# reshapeと同じ役割\n",
    "y = y.view(-1, 1)"
   ]
  },
  {
   "cell_type": "code",
   "execution_count": 50,
   "metadata": {},
   "outputs": [
    {
     "data": {
      "text/plain": [
       "tensor([[-4.6354e+01],\n",
       "        [ 7.1543e+01],\n",
       "        [ 8.7662e+01],\n",
       "        [ 3.8984e+01],\n",
       "        [ 5.8920e+01],\n",
       "        [-5.4420e+01],\n",
       "        [ 7.7974e+00],\n",
       "        [-1.5269e+01],\n",
       "        [-1.4519e+02],\n",
       "        [-1.9877e+01],\n",
       "        [ 2.7106e+01],\n",
       "        [ 8.9842e+01],\n",
       "        [-3.8844e+01],\n",
       "        [-1.2973e+01],\n",
       "        [ 5.1587e+01],\n",
       "        [-7.7176e-01],\n",
       "        [ 4.3025e+01],\n",
       "        [-2.6197e+01],\n",
       "        [ 8.3407e+01],\n",
       "        [ 4.4929e+00],\n",
       "        [ 7.6010e+01],\n",
       "        [-2.0093e+01],\n",
       "        [-5.7805e+01],\n",
       "        [-5.7877e+01],\n",
       "        [ 3.1615e+01],\n",
       "        [-6.4642e+01],\n",
       "        [ 3.0859e+01],\n",
       "        [ 3.0379e+01],\n",
       "        [ 3.8811e+01],\n",
       "        [-8.6218e+01],\n",
       "        [-8.4037e+00],\n",
       "        [-1.4503e+00],\n",
       "        [-7.9389e+01],\n",
       "        [ 1.2560e+02],\n",
       "        [-6.6897e+00],\n",
       "        [ 7.8098e+01],\n",
       "        [-7.9938e+01],\n",
       "        [ 1.1297e+01],\n",
       "        [-3.3335e+00],\n",
       "        [ 7.6539e+01],\n",
       "        [-1.2655e+02],\n",
       "        [-1.1817e+01],\n",
       "        [-1.0143e+02],\n",
       "        [ 1.3380e+01],\n",
       "        [-6.8527e-01],\n",
       "        [-2.3991e+01],\n",
       "        [ 7.4705e+01],\n",
       "        [-2.5761e+01],\n",
       "        [-3.3145e+01],\n",
       "        [ 6.5615e+01],\n",
       "        [-6.7610e+01],\n",
       "        [-4.0769e+01],\n",
       "        [-2.2575e+01],\n",
       "        [ 2.9195e+01],\n",
       "        [-1.0963e+02],\n",
       "        [ 1.0110e+02],\n",
       "        [ 3.5369e+01],\n",
       "        [ 6.1021e+01],\n",
       "        [-5.5526e+01],\n",
       "        [-1.1318e+01],\n",
       "        [ 1.0724e+01],\n",
       "        [-9.2375e+01],\n",
       "        [ 1.1932e+01],\n",
       "        [-5.4410e+01],\n",
       "        [ 1.0056e+00],\n",
       "        [-7.8236e+00],\n",
       "        [ 6.3764e+01],\n",
       "        [-3.9597e+01],\n",
       "        [-1.6441e+02],\n",
       "        [-2.1108e+01],\n",
       "        [ 2.6844e+01],\n",
       "        [ 4.2327e+01],\n",
       "        [-4.1192e+01],\n",
       "        [-9.4022e+00],\n",
       "        [-1.4391e+02],\n",
       "        [ 4.1706e+01],\n",
       "        [-5.4914e+01],\n",
       "        [-6.6414e+01],\n",
       "        [-2.9667e+01],\n",
       "        [ 2.2181e+01],\n",
       "        [ 2.0203e+01],\n",
       "        [-4.6620e-02],\n",
       "        [-7.5011e+01],\n",
       "        [ 3.2015e+01],\n",
       "        [ 1.2589e+01],\n",
       "        [ 1.9158e+01],\n",
       "        [-1.2974e+02],\n",
       "        [-2.2578e+01],\n",
       "        [ 7.3197e+01],\n",
       "        [ 5.7689e+00],\n",
       "        [ 5.6856e+01],\n",
       "        [-7.4885e+01],\n",
       "        [ 9.5651e+01],\n",
       "        [-1.7786e+01],\n",
       "        [ 1.4856e+02],\n",
       "        [-1.1288e+02],\n",
       "        [-1.1724e+02],\n",
       "        [ 3.3164e+01],\n",
       "        [-1.1898e+01],\n",
       "        [-8.1558e+00]], device='cuda:0')"
      ]
     },
     "execution_count": 50,
     "metadata": {},
     "output_type": "execute_result"
    }
   ],
   "source": [
    "y"
   ]
  },
  {
   "cell_type": "code",
   "execution_count": 55,
   "metadata": {},
   "outputs": [],
   "source": [
    "# torchで線形モデルを作る\n",
    "model = nn.Linear(1, 1).cuda()"
   ]
  },
  {
   "cell_type": "code",
   "execution_count": 56,
   "metadata": {},
   "outputs": [],
   "source": [
    "# 損失関数の設定\n",
    "# 平均二乗誤差\n",
    "criterion = nn.MSELoss()\n",
    "\n",
    "# 最適化アルゴリズム\n",
    "optimizer = torch.optim.SGD(model.parameters(), lr=0.01)"
   ]
  },
  {
   "cell_type": "code",
   "execution_count": 57,
   "metadata": {},
   "outputs": [],
   "source": [
    "# Epochの設定\n",
    "epochs = 300\n",
    "\n",
    "# 損失関数の状態をあとで確認できるように\n",
    "loss_list = []"
   ]
  },
  {
   "cell_type": "code",
   "execution_count": 58,
   "metadata": {},
   "outputs": [
    {
     "name": "stdout",
     "output_type": "stream",
     "text": [
      "Epoch: 50, loss=544.3440\n",
      "Epoch: 100, loss=140.6888\n",
      "Epoch: 150, loss=93.8513\n",
      "Epoch: 200, loss=88.1276\n",
      "Epoch: 250, loss=87.3914\n",
      "Epoch: 300, loss=87.2923\n"
     ]
    }
   ],
   "source": [
    "for epoch in range(epochs):\n",
    "    # モデルの予測結果を入れる\n",
    "    y_pred = model(X)\n",
    "    # モデルの予測結果と、実際の結果の差分を損失関数で計算する\n",
    "    loss = criterion(y_pred, y)\n",
    "    \n",
    "    # 勾配のリセットをする\n",
    "    optimizer.zero_grad()\n",
    "    \n",
    "    # 勾配の更新を行う(逆電波法)\n",
    "    loss.backward()\n",
    "    # パラメータの更新を行う\n",
    "    optimizer.step()\n",
    "    \n",
    "    # 損失関数のリストに追加\n",
    "    loss_list.append(loss.item()) # .itemとすると数値などで扱える(指定しないとTensorのまま)\n",
    "    \n",
    "    if (epoch+1) % 50 == 0:\n",
    "        print(f'Epoch: {epoch+1}, loss={loss.item():.4f}')"
   ]
  },
  {
   "cell_type": "code",
   "execution_count": 59,
   "metadata": {},
   "outputs": [],
   "source": [
    "# 損失関数の値が、Epochが増えるごとに減少しているのがわかる"
   ]
  },
  {
   "cell_type": "code",
   "execution_count": 60,
   "metadata": {},
   "outputs": [
    {
     "data": {
      "text/plain": [
       "[<matplotlib.lines.Line2D at 0x26597140a08>]"
      ]
     },
     "execution_count": 60,
     "metadata": {},
     "output_type": "execute_result"
    },
    {
     "data": {
      "image/png": "[encoded data removed]",
      "text/plain": [
       "<Figure size 432x288 with 1 Axes>"
      ]
     },
     "metadata": {},
     "output_type": "display_data"
    }
   ],
   "source": [
    "# loss_listをグラフ化\n",
    "plt.plot(loss_list)"
   ]
  },
  {
   "cell_type": "code",
   "execution_count": 63,
   "metadata": {},
   "outputs": [
    {
     "data": {
      "image/png": "[encoded data removed]",
      "text/plain": [
       "<Figure size 432x288 with 1 Axes>"
      ]
     },
     "metadata": {},
     "output_type": "display_data"
    }
   ],
   "source": [
    "# 予測結果をOverviewで表示してみる\n",
    "\n",
    "# 予測値が動かないようにする\n",
    "with torch.no_grad():\n",
    "    predicted_y = model(X).detach().cpu().numpy() # 予測結果がTensorになるので、detach().numpy()でNumpyに変換\n",
    "    \n",
    "    plt.plot(X_gen, y_gen, 'go') # 元のデータ\n",
    "    plt.plot(X_gen, predicted_y, 'b') # 予測結果"
   ]
  },
  {
   "cell_type": "code",
   "execution_count": 64,
   "metadata": {},
   "outputs": [
    {
     "name": "stdout",
     "output_type": "stream",
     "text": [
      "Parameter containing:\n",
      "tensor([[59.3779]], device='cuda:0', requires_grad=True)\n",
      "Parameter containing:\n",
      "tensor([0.1925], device='cuda:0', requires_grad=True)\n"
     ]
    }
   ],
   "source": [
    "# モデルの傾きと切片を出す\n",
    "print(model.weight) # 傾き\n",
    "print(model.bias) # 切片"
   ]
  },
  {
   "cell_type": "markdown",
   "metadata": {},
   "source": [
    "# コロナウィルスの予測\n",
    "https://github.com/CSSEGISandData/COVID-19/tree/master/csse_covid_19_data/csse_covid_19_time_series\n",
    "\n",
    "## 今後1週間の予測をしてみる"
   ]
  },
  {
   "cell_type": "code",
   "execution_count": 102,
   "metadata": {},
   "outputs": [
    {
     "data": {
      "text/plain": [
       "('time_series_covid19_confirmed_global.csv',\n",
       " <http.client.HTTPMessage at 0x26597bcfe48>)"
      ]
     },
     "execution_count": 102,
     "metadata": {},
     "output_type": "execute_result"
    }
   ],
   "source": [
    "# データのダウンロード\n",
    "import urllib.request\n",
    "\n",
    "urllib.request.urlretrieve('https://raw.githubusercontent.com/CSSEGISandData/COVID-19/master/csse_covid_19_data/csse_covid_19_time_series/time_series_covid19_confirmed_global.csv', 'time_series_covid19_confirmed_global.csv')\n"
   ]
  },
  {
   "cell_type": "code",
   "execution_count": 103,
   "metadata": {},
   "outputs": [
    {
     "name": "stdout",
     "output_type": "stream",
     "text": [
      " Volume in drive D has no label.\n",
      " Volume Serial Number is 3417-05D0\n",
      "\n",
      " Directory of D:\\PythonTraining\\PythonAIフレームワークPyTorch入門(コロナウィルスの予測)\n",
      "\n",
      "2020/07/04  10:31    <DIR>          .\n",
      "2020/07/04  10:31    <DIR>          ..\n",
      "2020/07/04  09:16    <DIR>          .ipynb_checkpoints\n",
      "2020/07/04  10:31           138,463 PyTorchでコロナウイルスの予測(LSTM).ipynb\n",
      "2020/07/04  10:32           162,966 time_series_covid19_confirmed_global.csv\n",
      "               2 File(s)        301,429 bytes\n",
      "               3 Dir(s)  959,413,673,984 bytes free\n"
     ]
    }
   ],
   "source": [
    "!dir"
   ]
  },
  {
   "cell_type": "code",
   "execution_count": 104,
   "metadata": {},
   "outputs": [
    {
     "name": "stdout",
     "output_type": "stream",
     "text": [
      "True\n"
     ]
    }
   ],
   "source": [
    "# GPUが利用可能か確認\n",
    "print(torch.cuda.is_available())"
   ]
  },
  {
   "cell_type": "code",
   "execution_count": 105,
   "metadata": {},
   "outputs": [],
   "source": [
    "import torch\n",
    "import torch.nn as nn\n",
    "import seaborn as sns\n",
    "import numpy as np\n",
    "import pandas as pd\n",
    "import matplotlib.pyplot as plt\n",
    "get_ipython().run_line_magic('matplotlib', 'inline')\n",
    "\n",
    "import datetime\n",
    "from pandas.plotting import register_matplotlib_converters\n",
    "from sklearn.preprocessing import MinMaxScaler"
   ]
  },
  {
   "cell_type": "code",
   "execution_count": 106,
   "metadata": {},
   "outputs": [],
   "source": [
    "df = pd.read_csv('time_series_covid19_confirmed_global.csv')"
   ]
  },
  {
   "cell_type": "code",
   "execution_count": 107,
   "metadata": {},
   "outputs": [
    {
     "data": {
      "text/html": [
       "<div>\n",
       "<style scoped>\n",
       "    .dataframe tbody tr th:only-of-type {\n",
       "        vertical-align: middle;\n",
       "    }\n",
       "\n",
       "    .dataframe tbody tr th {\n",
       "        vertical-align: top;\n",
       "    }\n",
       "\n",
       "    .dataframe thead th {\n",
       "        text-align: right;\n",
       "    }\n",
       "</style>\n",
       "<table border=\"1\" class=\"dataframe\">\n",
       "  <thead>\n",
       "    <tr style=\"text-align: right;\">\n",
       "      <th></th>\n",
       "      <th>Province/State</th>\n",
       "      <th>Country/Region</th>\n",
       "      <th>Lat</th>\n",
       "      <th>Long</th>\n",
       "      <th>1/22/20</th>\n",
       "      <th>1/23/20</th>\n",
       "      <th>1/24/20</th>\n",
       "      <th>1/25/20</th>\n",
       "      <th>1/26/20</th>\n",
       "      <th>1/27/20</th>\n",
       "      <th>...</th>\n",
       "      <th>6/23/20</th>\n",
       "      <th>6/24/20</th>\n",
       "      <th>6/25/20</th>\n",
       "      <th>6/26/20</th>\n",
       "      <th>6/27/20</th>\n",
       "      <th>6/28/20</th>\n",
       "      <th>6/29/20</th>\n",
       "      <th>6/30/20</th>\n",
       "      <th>7/1/20</th>\n",
       "      <th>7/2/20</th>\n",
       "    </tr>\n",
       "  </thead>\n",
       "  <tbody>\n",
       "    <tr>\n",
       "      <th>0</th>\n",
       "      <td>NaN</td>\n",
       "      <td>Afghanistan</td>\n",
       "      <td>33.000000</td>\n",
       "      <td>65.000000</td>\n",
       "      <td>0</td>\n",
       "      <td>0</td>\n",
       "      <td>0</td>\n",
       "      <td>0</td>\n",
       "      <td>0</td>\n",
       "      <td>0</td>\n",
       "      <td>...</td>\n",
       "      <td>29481</td>\n",
       "      <td>29640</td>\n",
       "      <td>30175</td>\n",
       "      <td>30451</td>\n",
       "      <td>30616</td>\n",
       "      <td>30967</td>\n",
       "      <td>31238</td>\n",
       "      <td>31517</td>\n",
       "      <td>31836</td>\n",
       "      <td>32022</td>\n",
       "    </tr>\n",
       "    <tr>\n",
       "      <th>1</th>\n",
       "      <td>NaN</td>\n",
       "      <td>Albania</td>\n",
       "      <td>41.153300</td>\n",
       "      <td>20.168300</td>\n",
       "      <td>0</td>\n",
       "      <td>0</td>\n",
       "      <td>0</td>\n",
       "      <td>0</td>\n",
       "      <td>0</td>\n",
       "      <td>0</td>\n",
       "      <td>...</td>\n",
       "      <td>2047</td>\n",
       "      <td>2114</td>\n",
       "      <td>2192</td>\n",
       "      <td>2269</td>\n",
       "      <td>2330</td>\n",
       "      <td>2402</td>\n",
       "      <td>2466</td>\n",
       "      <td>2535</td>\n",
       "      <td>2580</td>\n",
       "      <td>2662</td>\n",
       "    </tr>\n",
       "    <tr>\n",
       "      <th>2</th>\n",
       "      <td>NaN</td>\n",
       "      <td>Algeria</td>\n",
       "      <td>28.033900</td>\n",
       "      <td>1.659600</td>\n",
       "      <td>0</td>\n",
       "      <td>0</td>\n",
       "      <td>0</td>\n",
       "      <td>0</td>\n",
       "      <td>0</td>\n",
       "      <td>0</td>\n",
       "      <td>...</td>\n",
       "      <td>12076</td>\n",
       "      <td>12248</td>\n",
       "      <td>12445</td>\n",
       "      <td>12685</td>\n",
       "      <td>12968</td>\n",
       "      <td>13273</td>\n",
       "      <td>13571</td>\n",
       "      <td>13907</td>\n",
       "      <td>14272</td>\n",
       "      <td>14657</td>\n",
       "    </tr>\n",
       "    <tr>\n",
       "      <th>3</th>\n",
       "      <td>NaN</td>\n",
       "      <td>Andorra</td>\n",
       "      <td>42.506300</td>\n",
       "      <td>1.521800</td>\n",
       "      <td>0</td>\n",
       "      <td>0</td>\n",
       "      <td>0</td>\n",
       "      <td>0</td>\n",
       "      <td>0</td>\n",
       "      <td>0</td>\n",
       "      <td>...</td>\n",
       "      <td>855</td>\n",
       "      <td>855</td>\n",
       "      <td>855</td>\n",
       "      <td>855</td>\n",
       "      <td>855</td>\n",
       "      <td>855</td>\n",
       "      <td>855</td>\n",
       "      <td>855</td>\n",
       "      <td>855</td>\n",
       "      <td>855</td>\n",
       "    </tr>\n",
       "    <tr>\n",
       "      <th>4</th>\n",
       "      <td>NaN</td>\n",
       "      <td>Angola</td>\n",
       "      <td>-11.202700</td>\n",
       "      <td>17.873900</td>\n",
       "      <td>0</td>\n",
       "      <td>0</td>\n",
       "      <td>0</td>\n",
       "      <td>0</td>\n",
       "      <td>0</td>\n",
       "      <td>0</td>\n",
       "      <td>...</td>\n",
       "      <td>189</td>\n",
       "      <td>197</td>\n",
       "      <td>212</td>\n",
       "      <td>212</td>\n",
       "      <td>259</td>\n",
       "      <td>267</td>\n",
       "      <td>276</td>\n",
       "      <td>284</td>\n",
       "      <td>291</td>\n",
       "      <td>315</td>\n",
       "    </tr>\n",
       "    <tr>\n",
       "      <th>...</th>\n",
       "      <td>...</td>\n",
       "      <td>...</td>\n",
       "      <td>...</td>\n",
       "      <td>...</td>\n",
       "      <td>...</td>\n",
       "      <td>...</td>\n",
       "      <td>...</td>\n",
       "      <td>...</td>\n",
       "      <td>...</td>\n",
       "      <td>...</td>\n",
       "      <td>...</td>\n",
       "      <td>...</td>\n",
       "      <td>...</td>\n",
       "      <td>...</td>\n",
       "      <td>...</td>\n",
       "      <td>...</td>\n",
       "      <td>...</td>\n",
       "      <td>...</td>\n",
       "      <td>...</td>\n",
       "      <td>...</td>\n",
       "      <td>...</td>\n",
       "    </tr>\n",
       "    <tr>\n",
       "      <th>261</th>\n",
       "      <td>NaN</td>\n",
       "      <td>Sao Tome and Principe</td>\n",
       "      <td>0.186360</td>\n",
       "      <td>6.613081</td>\n",
       "      <td>0</td>\n",
       "      <td>0</td>\n",
       "      <td>0</td>\n",
       "      <td>0</td>\n",
       "      <td>0</td>\n",
       "      <td>0</td>\n",
       "      <td>...</td>\n",
       "      <td>707</td>\n",
       "      <td>710</td>\n",
       "      <td>711</td>\n",
       "      <td>712</td>\n",
       "      <td>713</td>\n",
       "      <td>713</td>\n",
       "      <td>713</td>\n",
       "      <td>714</td>\n",
       "      <td>715</td>\n",
       "      <td>717</td>\n",
       "    </tr>\n",
       "    <tr>\n",
       "      <th>262</th>\n",
       "      <td>NaN</td>\n",
       "      <td>Yemen</td>\n",
       "      <td>15.552727</td>\n",
       "      <td>48.516388</td>\n",
       "      <td>0</td>\n",
       "      <td>0</td>\n",
       "      <td>0</td>\n",
       "      <td>0</td>\n",
       "      <td>0</td>\n",
       "      <td>0</td>\n",
       "      <td>...</td>\n",
       "      <td>992</td>\n",
       "      <td>1015</td>\n",
       "      <td>1076</td>\n",
       "      <td>1089</td>\n",
       "      <td>1103</td>\n",
       "      <td>1118</td>\n",
       "      <td>1128</td>\n",
       "      <td>1158</td>\n",
       "      <td>1190</td>\n",
       "      <td>1221</td>\n",
       "    </tr>\n",
       "    <tr>\n",
       "      <th>263</th>\n",
       "      <td>NaN</td>\n",
       "      <td>Comoros</td>\n",
       "      <td>-11.645500</td>\n",
       "      <td>43.333300</td>\n",
       "      <td>0</td>\n",
       "      <td>0</td>\n",
       "      <td>0</td>\n",
       "      <td>0</td>\n",
       "      <td>0</td>\n",
       "      <td>0</td>\n",
       "      <td>...</td>\n",
       "      <td>265</td>\n",
       "      <td>265</td>\n",
       "      <td>272</td>\n",
       "      <td>272</td>\n",
       "      <td>272</td>\n",
       "      <td>272</td>\n",
       "      <td>272</td>\n",
       "      <td>303</td>\n",
       "      <td>303</td>\n",
       "      <td>303</td>\n",
       "    </tr>\n",
       "    <tr>\n",
       "      <th>264</th>\n",
       "      <td>NaN</td>\n",
       "      <td>Tajikistan</td>\n",
       "      <td>38.861034</td>\n",
       "      <td>71.276093</td>\n",
       "      <td>0</td>\n",
       "      <td>0</td>\n",
       "      <td>0</td>\n",
       "      <td>0</td>\n",
       "      <td>0</td>\n",
       "      <td>0</td>\n",
       "      <td>...</td>\n",
       "      <td>5567</td>\n",
       "      <td>5630</td>\n",
       "      <td>5691</td>\n",
       "      <td>5747</td>\n",
       "      <td>5799</td>\n",
       "      <td>5849</td>\n",
       "      <td>5900</td>\n",
       "      <td>5900</td>\n",
       "      <td>6005</td>\n",
       "      <td>6058</td>\n",
       "    </tr>\n",
       "    <tr>\n",
       "      <th>265</th>\n",
       "      <td>NaN</td>\n",
       "      <td>Lesotho</td>\n",
       "      <td>-29.609988</td>\n",
       "      <td>28.233608</td>\n",
       "      <td>0</td>\n",
       "      <td>0</td>\n",
       "      <td>0</td>\n",
       "      <td>0</td>\n",
       "      <td>0</td>\n",
       "      <td>0</td>\n",
       "      <td>...</td>\n",
       "      <td>17</td>\n",
       "      <td>17</td>\n",
       "      <td>17</td>\n",
       "      <td>24</td>\n",
       "      <td>24</td>\n",
       "      <td>27</td>\n",
       "      <td>27</td>\n",
       "      <td>27</td>\n",
       "      <td>35</td>\n",
       "      <td>35</td>\n",
       "    </tr>\n",
       "  </tbody>\n",
       "</table>\n",
       "<p>266 rows × 167 columns</p>\n",
       "</div>"
      ],
      "text/plain": [
       "    Province/State         Country/Region        Lat       Long  1/22/20  \\\n",
       "0              NaN            Afghanistan  33.000000  65.000000        0   \n",
       "1              NaN                Albania  41.153300  20.168300        0   \n",
       "2              NaN                Algeria  28.033900   1.659600        0   \n",
       "3              NaN                Andorra  42.506300   1.521800        0   \n",
       "4              NaN                 Angola -11.202700  17.873900        0   \n",
       "..             ...                    ...        ...        ...      ...   \n",
       "261            NaN  Sao Tome and Principe   0.186360   6.613081        0   \n",
       "262            NaN                  Yemen  15.552727  48.516388        0   \n",
       "263            NaN                Comoros -11.645500  43.333300        0   \n",
       "264            NaN             Tajikistan  38.861034  71.276093        0   \n",
       "265            NaN                Lesotho -29.609988  28.233608        0   \n",
       "\n",
       "     1/23/20  1/24/20  1/25/20  1/26/20  1/27/20  ...  6/23/20  6/24/20  \\\n",
       "0          0        0        0        0        0  ...    29481    29640   \n",
       "1          0        0        0        0        0  ...     2047     2114   \n",
       "2          0        0        0        0        0  ...    12076    12248   \n",
       "3          0        0        0        0        0  ...      855      855   \n",
       "4          0        0        0        0        0  ...      189      197   \n",
       "..       ...      ...      ...      ...      ...  ...      ...      ...   \n",
       "261        0        0        0        0        0  ...      707      710   \n",
       "262        0        0        0        0        0  ...      992     1015   \n",
       "263        0        0        0        0        0  ...      265      265   \n",
       "264        0        0        0        0        0  ...     5567     5630   \n",
       "265        0        0        0        0        0  ...       17       17   \n",
       "\n",
       "     6/25/20  6/26/20  6/27/20  6/28/20  6/29/20  6/30/20  7/1/20  7/2/20  \n",
       "0      30175    30451    30616    30967    31238    31517   31836   32022  \n",
       "1       2192     2269     2330     2402     2466     2535    2580    2662  \n",
       "2      12445    12685    12968    13273    13571    13907   14272   14657  \n",
       "3        855      855      855      855      855      855     855     855  \n",
       "4        212      212      259      267      276      284     291     315  \n",
       "..       ...      ...      ...      ...      ...      ...     ...     ...  \n",
       "261      711      712      713      713      713      714     715     717  \n",
       "262     1076     1089     1103     1118     1128     1158    1190    1221  \n",
       "263      272      272      272      272      272      303     303     303  \n",
       "264     5691     5747     5799     5849     5900     5900    6005    6058  \n",
       "265       17       24       24       27       27       27      35      35  \n",
       "\n",
       "[266 rows x 167 columns]"
      ]
     },
     "execution_count": 107,
     "metadata": {},
     "output_type": "execute_result"
    }
   ],
   "source": [
    "df"
   ]
  },
  {
   "cell_type": "code",
   "execution_count": 108,
   "metadata": {},
   "outputs": [
    {
     "data": {
      "text/html": [
       "<div>\n",
       "<style scoped>\n",
       "    .dataframe tbody tr th:only-of-type {\n",
       "        vertical-align: middle;\n",
       "    }\n",
       "\n",
       "    .dataframe tbody tr th {\n",
       "        vertical-align: top;\n",
       "    }\n",
       "\n",
       "    .dataframe thead th {\n",
       "        text-align: right;\n",
       "    }\n",
       "</style>\n",
       "<table border=\"1\" class=\"dataframe\">\n",
       "  <thead>\n",
       "    <tr style=\"text-align: right;\">\n",
       "      <th></th>\n",
       "      <th>Province/State</th>\n",
       "      <th>Country/Region</th>\n",
       "      <th>Lat</th>\n",
       "      <th>Long</th>\n",
       "      <th>1/22/20</th>\n",
       "      <th>1/23/20</th>\n",
       "      <th>1/24/20</th>\n",
       "      <th>1/25/20</th>\n",
       "      <th>1/26/20</th>\n",
       "      <th>1/27/20</th>\n",
       "      <th>...</th>\n",
       "      <th>6/23/20</th>\n",
       "      <th>6/24/20</th>\n",
       "      <th>6/25/20</th>\n",
       "      <th>6/26/20</th>\n",
       "      <th>6/27/20</th>\n",
       "      <th>6/28/20</th>\n",
       "      <th>6/29/20</th>\n",
       "      <th>6/30/20</th>\n",
       "      <th>7/1/20</th>\n",
       "      <th>7/2/20</th>\n",
       "    </tr>\n",
       "  </thead>\n",
       "  <tbody>\n",
       "    <tr>\n",
       "      <th>139</th>\n",
       "      <td>NaN</td>\n",
       "      <td>Japan</td>\n",
       "      <td>36.0</td>\n",
       "      <td>138.0</td>\n",
       "      <td>2</td>\n",
       "      <td>2</td>\n",
       "      <td>2</td>\n",
       "      <td>2</td>\n",
       "      <td>4</td>\n",
       "      <td>4</td>\n",
       "      <td>...</td>\n",
       "      <td>17879</td>\n",
       "      <td>17963</td>\n",
       "      <td>18055</td>\n",
       "      <td>18162</td>\n",
       "      <td>18254</td>\n",
       "      <td>18366</td>\n",
       "      <td>18476</td>\n",
       "      <td>18615</td>\n",
       "      <td>18838</td>\n",
       "      <td>19055</td>\n",
       "    </tr>\n",
       "  </tbody>\n",
       "</table>\n",
       "<p>1 rows × 167 columns</p>\n",
       "</div>"
      ],
      "text/plain": [
       "    Province/State Country/Region   Lat   Long  1/22/20  1/23/20  1/24/20  \\\n",
       "139            NaN          Japan  36.0  138.0        2        2        2   \n",
       "\n",
       "     1/25/20  1/26/20  1/27/20  ...  6/23/20  6/24/20  6/25/20  6/26/20  \\\n",
       "139        2        4        4  ...    17879    17963    18055    18162   \n",
       "\n",
       "     6/27/20  6/28/20  6/29/20  6/30/20  7/1/20  7/2/20  \n",
       "139    18254    18366    18476    18615   18838   19055  \n",
       "\n",
       "[1 rows x 167 columns]"
      ]
     },
     "execution_count": 108,
     "metadata": {},
     "output_type": "execute_result"
    }
   ],
   "source": [
    "# Japanだけ抽出\n",
    "df = df[df['Country/Region']=='Japan']\n",
    "df"
   ]
  },
  {
   "cell_type": "code",
   "execution_count": 109,
   "metadata": {},
   "outputs": [
    {
     "data": {
      "text/plain": [
       "2020-01-22        2\n",
       "2020-01-23        2\n",
       "2020-01-24        2\n",
       "2020-01-25        2\n",
       "2020-01-26        4\n",
       "              ...  \n",
       "2020-06-28    18366\n",
       "2020-06-29    18476\n",
       "2020-06-30    18615\n",
       "2020-07-01    18838\n",
       "2020-07-02    19055\n",
       "Name: 139, Length: 163, dtype: int64"
      ]
     },
     "execution_count": 109,
     "metadata": {},
     "output_type": "execute_result"
    }
   ],
   "source": [
    "df = df.iloc[:,4:].copy()\n",
    "#df['4/16/20'] = [8626]\n",
    "daily_japan=df.iloc[0,:]\n",
    "daily_japan.index = pd.to_datetime(daily_japan.index)\n",
    "\n",
    "daily_japan"
   ]
  },
  {
   "cell_type": "code",
   "execution_count": 110,
   "metadata": {},
   "outputs": [
    {
     "data": {
      "image/png": "[encoded data removed]",
      "text/plain": [
       "<Figure size 720x360 with 1 Axes>"
      ]
     },
     "metadata": {
      "needs_background": "light"
     },
     "output_type": "display_data"
    }
   ],
   "source": [
    "plt.figure(figsize=(10,5))\n",
    "plt.plot(daily_japan)\n",
    "plt.title(\"Japan COVID-19\")\n",
    "plt.grid(True)\n",
    "plt.ylabel(\"Person infected\")\n",
    "plt.show()"
   ]
  },
  {
   "cell_type": "code",
   "execution_count": 111,
   "metadata": {},
   "outputs": [],
   "source": [
    "y=daily_japan.values.astype(float)"
   ]
  },
  {
   "cell_type": "code",
   "execution_count": 112,
   "metadata": {},
   "outputs": [],
   "source": [
    "def sequence_creator(input_data,window):\n",
    "    dataset=[]\n",
    "    data_len = len(input_data)\n",
    "    for i in range(data_len - window):\n",
    "        window_fr = input_data[i:i+window]\n",
    "        label = input_data[i+window:i+window+1]\n",
    "        dataset.append((window_fr,label))\n",
    "    return dataset"
   ]
  },
  {
   "cell_type": "code",
   "execution_count": 113,
   "metadata": {},
   "outputs": [],
   "source": [
    "class LSTM_COVID(nn.Module):\n",
    "    def __init__(self, in_size=1, h_size=30, out_size=1):\n",
    "        super().__init__()\n",
    "        \n",
    "        self.h_size = h_size\n",
    "        self.lstm = nn.LSTM(in_size, h_size)\n",
    "        self.fc = nn.Linear(h_size,out_size)\n",
    "        \n",
    "        self.hidden = (torch.zeros(1,1,self.h_size), torch.zeros(1,1,self.h_size))\n",
    "        \n",
    "    def forward(self, sequence_data):\n",
    "        lstm_out, self.hidden = self.lstm(sequence_data.view(len(sequence_data),1,-1),self.hidden)\n",
    "        pred = self.fc(lstm_out.view(len(sequence_data),-1))\n",
    "        return pred[-1]\n"
   ]
  },
  {
   "cell_type": "code",
   "execution_count": 114,
   "metadata": {},
   "outputs": [],
   "source": [
    "torch.manual_seed(3)\n",
    "\n",
    "# モデル定義\n",
    "model = LSTM_COVID()\n",
    "# 損失関数 MSELoss\n",
    "criterion = nn.MSELoss()\n",
    "# 最適化\n",
    "optimizer = torch.optim.Adam(model.parameters(), lr=0.001)\n"
   ]
  },
  {
   "cell_type": "code",
   "execution_count": 115,
   "metadata": {},
   "outputs": [],
   "source": [
    "epochs = 100\n",
    "window_size = 7\n",
    "loss_list = []\n",
    "loss_temp = 0\n",
    "\n",
    "#model.train()\n"
   ]
  },
  {
   "cell_type": "code",
   "execution_count": 116,
   "metadata": {},
   "outputs": [],
   "source": [
    "# データの正規化\n",
    "scaler = MinMaxScaler(feature_range=(-1,1)) # -1から1に収まるように正規化\n",
    "y_normalized = scaler.fit_transform(y.reshape(-1,1))\n",
    "y_normalized = torch.FloatTensor(y_normalized).view(-1)\n",
    "full_data = sequence_creator(y_normalized,window_size)\n"
   ]
  },
  {
   "cell_type": "code",
   "execution_count": 117,
   "metadata": {},
   "outputs": [
    {
     "name": "stdout",
     "output_type": "stream",
     "text": [
      "Epoch 10 Loss 0.0321077517974071\n",
      "Epoch 20 Loss 0.00760642748612624\n",
      "Epoch 30 Loss 0.0035345367896251188\n",
      "Epoch 40 Loss 0.0016913241300827418\n",
      "Epoch 50 Loss 0.0018841758752480532\n",
      "Epoch 60 Loss 0.0017406958800095778\n",
      "Epoch 70 Loss 0.0015075642328995925\n",
      "Epoch 80 Loss 0.0013473819463680951\n",
      "Epoch 90 Loss 0.0011999464952028715\n",
      "Epoch 100 Loss 0.0010781460847610082\n"
     ]
    }
   ],
   "source": [
    "for epoch in range(epochs):\n",
    "    for sequence_in, y_train in full_data:\n",
    "        \n",
    "        y_pred = model(sequence_in)\n",
    "        \n",
    "        loss = criterion(y_pred, y_train)\n",
    "        loss_temp += loss\n",
    "        \n",
    "        optimizer.zero_grad()\n",
    "        model.hidden = (torch.zeros(1,1,model.h_size),torch.zeros(1,1,model.h_size))\n",
    "        \n",
    "        loss.backward()\n",
    "        optimizer.step()\n",
    "        \n",
    "    if((epoch+1) % 10 ==0):\n",
    "        loss_list.append(loss_temp.item()/(10*len(full_data)))\n",
    "        print(f'Epoch {epoch+1} Loss {loss_temp.item()/(10*len(full_data))}')\n",
    "        loss_temp = 0\n"
   ]
  },
  {
   "cell_type": "code",
   "execution_count": 118,
   "metadata": {},
   "outputs": [
    {
     "data": {
      "text/plain": [
       "[<matplotlib.lines.Line2D at 0x2659936fc88>]"
      ]
     },
     "execution_count": 118,
     "metadata": {},
     "output_type": "execute_result"
    },
    {
     "data": {
      "image/png": "[encoded data removed]",
      "text/plain": [
       "<Figure size 432x288 with 1 Axes>"
      ]
     },
     "metadata": {
      "needs_background": "light"
     },
     "output_type": "display_data"
    }
   ],
   "source": [
    "plt.plot(loss_list)\n"
   ]
  },
  {
   "cell_type": "code",
   "execution_count": 119,
   "metadata": {},
   "outputs": [
    {
     "data": {
      "image/png": "[encoded data removed]",
      "text/plain": [
       "<Figure size 864x288 with 1 Axes>"
      ]
     },
     "metadata": {},
     "output_type": "display_data"
    }
   ],
   "source": [
    "upcoming_future = 7\n",
    "predictions = y_normalized[-window_size:].tolist()\n",
    "\n",
    "model.eval()\n",
    "\n",
    "for i in range(upcoming_future):\n",
    "    sequence = torch.FloatTensor(predictions[-window_size:])\n",
    "    with torch.no_grad():\n",
    "        model.hidden = (torch.zeros(1,1,model.h_size),torch.zeros(1,1,model.h_size))\n",
    "        predictions.append(model(sequence).item())\n",
    "        \n",
    "predictions_y = scaler.inverse_transform(np.array(predictions).reshape(-1,1))\n",
    "x = np.arange('2020-04-17','2020-04-24', dtype='datetime64[D]').astype('datetime64[D]')\n",
    "sns.set()\n",
    "plt.figure(figsize = (12,4))\n",
    "plt.title(\"Japan COVID-19\")\n",
    "plt.grid(True)\n",
    "plt.ylabel(\"Person infected\")\n",
    "plt.plot(daily_japan)\n",
    "plt.plot(x,predictions_y[-window_size:])\n",
    "plt.show()\n"
   ]
  },
  {
   "cell_type": "code",
   "execution_count": 120,
   "metadata": {},
   "outputs": [
    {
     "data": {
      "text/plain": [
       "array([[19358.6266613 ],\n",
       "       [19679.84790617],\n",
       "       [20043.86488378],\n",
       "       [20449.93147385],\n",
       "       [20909.0714047 ],\n",
       "       [21441.55938751],\n",
       "       [22063.19114053]])"
      ]
     },
     "execution_count": 120,
     "metadata": {},
     "output_type": "execute_result"
    }
   ],
   "source": [
    "predictions_y[-window_size:]\n"
   ]
  },
  {
   "cell_type": "code",
   "execution_count": null,
   "metadata": {},
   "outputs": [],
   "source": []
  }
 ],
 "metadata": {
  "kernelspec": {
   "display_name": "Python 3",
   "language": "python",
   "name": "python3"
  },
  "language_info": {
   "codemirror_mode": {
    "name": "ipython",
    "version": 3
   },
   "file_extension": ".py",
   "mimetype": "text/x-python",
   "name": "python",
   "nbconvert_exporter": "python",
   "pygments_lexer": "ipython3",
   "version": "3.7.6"
  }
 },
 "nbformat": 4,
 "nbformat_minor": 4
}
